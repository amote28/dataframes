{
 "cells": [
  {
   "cell_type": "code",
   "execution_count": 24,
   "outputs": [],
   "source": [
    "import datetime\n",
    "import numpy as np\n",
    "import pandas as pd\n",
    "import matplotlib.pyplot as plt\n",
    "%matplotlib inline\n",
    "from datetime import date\n",
    "import quandl"
   ],
   "metadata": {
    "collapsed": false
   }
  },
  {
   "cell_type": "code",
   "execution_count": null,
   "outputs": [],
   "source": [
    "df = quandl.get('BITFINEX/ETHUSD',start_date='2016-01-01',end_date='2023-01-31', index_col='Date', parse_dates=True)\n",
    "df"
   ],
   "metadata": {
    "collapsed": false,
    "pycharm": {
     "is_executing": true
    }
   }
  },
  {
   "cell_type": "code",
   "execution_count": null,
   "outputs": [],
   "source": [
    "df['Mid'].plot(figsize=(16,6))"
   ],
   "metadata": {
    "collapsed": false,
    "pycharm": {
     "is_executing": true
    }
   }
  },
  {
   "cell_type": "code",
   "execution_count": null,
   "outputs": [],
   "source": [
    "#applyin MA7\n",
    "df['Mid'].plot()\n",
    "df.rolling(window=7).mean()['Mid'].plot(figsize=(16,6))"
   ],
   "metadata": {
    "collapsed": false,
    "pycharm": {
     "is_executing": true
    }
   }
  },
  {
   "cell_type": "code",
   "execution_count": null,
   "outputs": [],
   "source": [
    "#applying MA30+zoom-in the recent bullrun\n",
    "df['Mid 30 Day MA'] = df['Mid'].rolling(window=30).mean()\n",
    "df[['Mid 30 Day MA', 'Mid']]['2021-01-01':].plot(figsize = (16,6))"
   ],
   "metadata": {
    "collapsed": false,
    "pycharm": {
     "is_executing": true
    }
   }
  },
  {
   "cell_type": "code",
   "execution_count": null,
   "outputs": [],
   "source": [
    "#applying Bollinger Bands\n",
    "df['Avg 20 MA'] = ((df['High'] + df['Low'])/2).rolling(20).mean()\n",
    "df['Upper'] = df['Avg 20 MA'] + 2*(df['Mid'].rolling(20).std())\n",
    "df['Lower'] = df['Avg 20 MA'] -2*(df['Mid'].rolling(20).std())\n",
    "df[['Avg 20 MA', 'Mid', 'Upper', 'Lower']].plot(figsize =(16,6))"
   ],
   "metadata": {
    "collapsed": false,
    "pycharm": {
     "is_executing": true
    }
   }
  },
  {
   "cell_type": "code",
   "execution_count": null,
   "outputs": [],
   "source": [
    "#applying EWMA12\n",
    "df['EWMA12'] = df['Mid'].ewm(span=12).mean()\n",
    "df[['EWMA12', 'Mid']]['2021-01-01':].plot(figsize=(16,6))"
   ],
   "metadata": {
    "collapsed": false,
    "pycharm": {
     "is_executing": true
    }
   }
  },
  {
   "cell_type": "code",
   "execution_count": null,
   "outputs": [],
   "source": [],
   "metadata": {
    "collapsed": false
   }
  }
 ],
 "metadata": {
  "kernelspec": {
   "display_name": "Python 3",
   "language": "python",
   "name": "python3"
  },
  "language_info": {
   "codemirror_mode": {
    "name": "ipython",
    "version": 2
   },
   "file_extension": ".py",
   "mimetype": "text/x-python",
   "name": "python",
   "nbconvert_exporter": "python",
   "pygments_lexer": "ipython2",
   "version": "2.7.6"
  }
 },
 "nbformat": 4,
 "nbformat_minor": 0
}
